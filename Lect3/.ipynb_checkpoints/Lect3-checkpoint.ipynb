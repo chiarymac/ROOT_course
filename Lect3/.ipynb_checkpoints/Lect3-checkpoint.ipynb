{
 "cells": [
  {
   "cell_type": "markdown",
   "metadata": {},
   "source": [
    "# Macro e file .mac .sh , Ntuple e Trees\n",
    "\n",
    "In questo notebook parleremo brevemente di come si possono creare e usare le macro in ROOT e dei tipi di file correlati al framework.\n",
    "\n",
    "In particolare vedremo come usando i file .mac e .sh si possono \"meccanizzare\" ovvero usare ripetutamente le macro create precedentemente, vedremo alcuni esempio di macro (che eseguiremo sul terminale non sul notebook) e come è possibile eseguirle ripetutamente da un unico file.\n",
    "\n",
    "Parleremo poi di due classi ROOT più avanzate:\n",
    "    - TTre\n",
    "    - TNtuple\n",
    "    \n",
    "Solitamente derivanti dall'acquisizione dati.\n",
    "\n",
    "**!!! importante** \n",
    "\n",
    "Nel file seguente alcune istruzioni (import ROOT e %%cpp) sono usate solo e soltanto per far funzionare il codice sul notebook, non vanno usate nel framework!"
   ]
  },
  {
   "cell_type": "markdown",
   "metadata": {},
   "source": [
    "## Macro e file .mac e .sh\n",
    "\n",
    "Il framework di ROOT permette di caricare ed eseguire macro, tuttavia cosa è una macro?\n",
    "\n",
    "Le librerie di ROOT possono essere sostanzialmente usate in due modi: si possono integrare in un programma compilabile in C++ (complicato da integrare e necessita di alcuni flag in compilazione) di cui parleremo brevemente oppure si possono scrivere dei codici in formalismo C++ che vengono poi eseguiti direttamente all'interno del framework, questa seconda opzione è detta macro.\n",
    "\n",
    "Facciamo un esempio: il file TH1toTxt.cc è un file c++ in cui è presente solamente un omonima funzione, esso non è eseguibile e compilabile con gcc (il classico compilatore C++) ma può essere eseguito comodamente all'interno del framework, analizziamolo meglio"
   ]
  },
  {
   "cell_type": "code",
   "execution_count": 1,
   "metadata": {},
   "outputs": [
    {
     "name": "stdout",
     "output_type": "stream",
     "text": [
      "Welcome to JupyROOT 6.14/06\n"
     ]
    }
   ],
   "source": [
    "import ROOT"
   ]
  },
  {
   "cell_type": "code",
   "execution_count": 3,
   "metadata": {},
   "outputs": [
    {
     "name": "stdout",
     "output_type": "stream",
     "text": [
      "void TH1toTxt (TH1F *h, string outfile) {\r\n",
      "\tofstream out (outfile);\r\n",
      "\tint n=h->GetNbinsX();\r\n",
      "\tfor (int i=0; i<n; i++) out<<h->GetBinCenter(i)<<\"\\t\"<<h->GetBinContent(i)<<endl;\r\n",
      "}\r\n"
     ]
    }
   ],
   "source": [
    "#per prima cosa vediamo cosa si trova nel file\n",
    "#!!!!questo non è root sto eseguendo nella shell\n",
    "!cat TH1toTxt.cc"
   ]
  },
  {
   "cell_type": "markdown",
   "metadata": {},
   "source": [
    "Sostanzialmente questo codice chiede un istogramma e il nome di un file di output in cui creare le coppie di punti corrispondenti ai suoi bin (così da poterne fare poi un TGraph).\n",
    "\n",
    "Il codice può essere comodamente eseguito all'interno del framework in due modi:\n",
    "1. con l'instruzione .x si esegue direttamente la macro dando i paramentri di input a patto che il nome del file e quello della funzione principale (quella che viene eseguita, simile al main in cpp) coincidano\n",
    "2. con l'istruzione .L si caricano tutte le funzioni presenti nel file e queste diventano poi eseguibili liberamente all'interno del framework\n",
    "\n",
    "Nel notebook non è possibile eseguire questi comandi (non sono cp nativi) quindi faremo un esempio direttamente da terminale, in ogni caso il codice che bisogna usare sarà:\n",
    "\n",
    "- root -l 100mSimK12_trigger.root -> apro il file root\n",
    "- .x TH1toTxt.cc (hAll, \"hAllout.txt\") ->eseguo la macro su hAll\n",
    "\n",
    "oppure nel secondo caso\n",
    "- root -l 100mSimK12_trigger.root -> apro il file root\n",
    "- .L TH1toTxt.cc                 ->carico la macro\n",
    "- TH1toTxt(hAll, \"hAllout.txt\") ->eseguo la macro su hAll\n",
    "\n",
    "\n",
    "Il secondo approccio risulta utile nel caso in un unico file vi siano molte macro che si vogliono eseguire indipendentemente.\n"
   ]
  },
  {
   "cell_type": "markdown",
   "metadata": {},
   "source": [
    "Infine analizziamo un ultimo caso: in caso si voglia usare la stessa macro ripetutamente è possibile scrivere un file che contiene un'esecuzione \"ripetuta\" della stessa, questo si può fare con i file .mac se si vuole agire all'interno del framework o con i file .sh se si vuole agire da terminale.\n",
    "\n",
    "Supponiamo per esempio di voler eseguire ripetutamente la macro di prima sui TH1F hSim, hAll, hRec ed hSel allora è possibile \"meccanizzare\" la cosa in due modi come vedremo nei due file TH1conv.mac e TH1conv.sh"
   ]
  },
  {
   "cell_type": "code",
   "execution_count": 4,
   "metadata": {},
   "outputs": [
    {
     "name": "stdout",
     "output_type": "stream",
     "text": [
      ".x TH1toTxt.cc (hSim, \"hSimout.txt\")\r\n",
      ".x TH1toTxt.cc (hAll, \"hAllout.txt\")\r\n",
      ".x TH1toTxt.cc (hSel, \"hSelout.txt\")\r\n",
      ".x TH1toTxt.cc (hRec, \"hRecout.txt\")\r\n"
     ]
    }
   ],
   "source": [
    "!cat TH1conv.mac"
   ]
  },
  {
   "cell_type": "markdown",
   "metadata": {},
   "source": [
    "In questo file vi è semplicemente l'istruzione di prima ripetuta 4 volte questo file va eseguito sempre con .x all'interno del framework di root quindi si può eseguire anche all'interno di un file già aperto.\n",
    "\n",
    "\n",
    "In alternativa se all'interno della macro vi sono le istruzioni necessarie per ricevere autonomamente i dati (ovvero se per eseguirla non è necessario essere già all'interno di uno specifico TFile allora è possibile eseguire la macro direttamente nella shell del terminale e la sua \"meccanizzazione\" può essere eseguita anche con un file .sh nel seguente modo: creiamo una macro che disegna e salva i file txt creati in precedenza:"
   ]
  },
  {
   "cell_type": "code",
   "execution_count": 5,
   "metadata": {},
   "outputs": [
    {
     "name": "stdout",
     "output_type": "stream",
     "text": [
      "void TxttoTGraph (string name) {\r\n",
      "\tTGraph * gr= new TGraph((name+\".txt\").c_str());\r\n",
      "\tTCanvas *c= new TCanvas(\"c\", \"c\", 600, 600);\r\n",
      "\tc->cd();\r\n",
      "\tgr->Draw();\r\n",
      "\tc->Draw();\r\n",
      "\tc->Print((name+\".png\").c_str());\r\n",
      "}\r\n",
      "\r\n",
      "//to execute in batch\r\n",
      "//root -l -b 'TxttoTGraph.cc (\"hAllout\"); exit (0)'\r\n"
     ]
    }
   ],
   "source": [
    "!cat TxttoTGraph.cc"
   ]
  },
  {
   "cell_type": "markdown",
   "metadata": {},
   "source": [
    "Il file semplicemente crea un TGraph e poi salva il canvas in png, piccola nota è il fatto che il metodo print chiede un array di char quindi è necessario convertire con .c_str().\n",
    "\n",
    "La macro in questo caso può essere eseguita dentro al framework come già visto semplicemente chiamando \n",
    "- .x TxttoTGraph.cc (\"hAllout\")\n",
    "\n",
    "Oppure eseguita nella shell con l'istruzione\n",
    "- root -l -b 'TxttoTGraph.cc (\"hAllout\"); exit (0)'\n",
    "Dove exit zero serve per tornare poi al terminale e -b serve per eseguire in background (ovvero non mostrerà i canvas)\n",
    "\n",
    "Per meccanizzare questa operazione ai quattro file creati prima basta scrivere il codice di esecuzione in un file .mac da eseguire nel framework (quindi con quattro copie della prima istruzione) oppure in modo da eseguirlo all'esterno in un file sh eseguibile come un normale file bash"
   ]
  },
  {
   "cell_type": "code",
   "execution_count": 6,
   "metadata": {},
   "outputs": [
    {
     "name": "stdout",
     "output_type": "stream",
     "text": [
      "root -l -b 'TxttoTGraph.cc (\"hAllout\"); exit (0)'\r\n",
      "root -l -b 'TxttoTGraph.cc (\"hSimout\"); exit (0)'\r\n",
      "root -l -b 'TxttoTGraph.cc (\"hRecout\"); exit (0)'\r\n",
      "root -l -b 'TxttoTGraph.cc (\"hSelout\"); exit (0)'\r\n"
     ]
    }
   ],
   "source": [
    "!cat Txtconv.sh"
   ]
  },
  {
   "cell_type": "markdown",
   "metadata": {},
   "source": [
    "Questo file semplicemente esegue 4 volte l'struzione ed esce ogni volta in modo che sia nuovamente chiamabile da shell, per eseguirlo è sufficiente digitare\n",
    "    - source Txtconv.sh\n",
    "\n",
    "La cosa comoda è che volendo in questo secondo modo si possono aggiungere comandi nativi della shell, per esempio si può chiedere alla funzione di aprire i file .png creati, come in questo secondo file (analogo al primo ma con un'istruzione in più):"
   ]
  },
  {
   "cell_type": "code",
   "execution_count": 7,
   "metadata": {},
   "outputs": [
    {
     "name": "stdout",
     "output_type": "stream",
     "text": [
      "root -l -b 'TxttoTGraph.cc (\"hAllout\"); exit (0)'\r\n",
      "root -l -b 'TxttoTGraph.cc (\"hSimout\"); exit (0)'\r\n",
      "root -l -b 'TxttoTGraph.cc (\"hRecout\"); exit (0)'\r\n",
      "root -l -b 'TxttoTGraph.cc (\"hSelout\"); exit (0)'\r\n",
      "\r\n",
      "eog *.png &\r\n"
     ]
    }
   ],
   "source": [
    "!cat Txtconv2.sh"
   ]
  },
  {
   "cell_type": "markdown",
   "metadata": {},
   "source": [
    "## TNtuple\n",
    "\n",
    "Le [TNtuple](https://root.cern.ch/doc/master/classTNtuple.html) sono per definizione \"A simple TTree restricted to a list of float variables only.\"\n",
    "\n",
    "Affronteremo più avanti i TTree ma in generale non vi è molta diffrenza tra le due classi, una Ntupla sostanzialmente permette di immagazzinare una serie di dati mantenendoli nell'ordine di aquisizione.\n",
    "\n",
    "La funzionalità maggiore è la possibilità di plottare i dati in coppia in modo tale da cercare correlazioni e di mantenere in un unico oggetto tutti i dati su cui si vorrà poi fare analisi statistica ( supponendo essi derivino da un'acuisizione comune).\n",
    "\n",
    "In generale non ci addentreremo molto nel come creare e modificare Ntuple e TTre poichè questa cosa viene in generale fatti dal software di acquisizione ma piuttosto su come usare i dati contenuti."
   ]
  },
  {
   "cell_type": "code",
   "execution_count": null,
   "metadata": {},
   "outputs": [],
   "source": []
  }
 ],
 "metadata": {
  "kernelspec": {
   "display_name": "Python 2",
   "language": "python",
   "name": "python2"
  },
  "language_info": {
   "codemirror_mode": {
    "name": "ipython",
    "version": 2
   },
   "file_extension": ".py",
   "mimetype": "text/x-python",
   "name": "python",
   "nbconvert_exporter": "python",
   "pygments_lexer": "ipython2",
   "version": "2.7.17"
  }
 },
 "nbformat": 4,
 "nbformat_minor": 2
}
