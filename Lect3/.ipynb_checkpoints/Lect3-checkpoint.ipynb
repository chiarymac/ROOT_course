{
 "cells": [
  {
   "cell_type": "markdown",
   "metadata": {},
   "source": [
    "# Macro e file .mac .sh , Ntuple e Trees\n",
    "\n",
    "In questo notebook parleremo brevemente di come si possono creare e usare le macro in ROOT e dei tipi di file correlati al framework.\n",
    "\n",
    "In particolare vedremo come usando i file .mac e .sh si possono \"meccanizzare\" ovvero usare ripetutamente le macro create precedentemente, vedremo alcuni esempio di macro (che eseguiremo sul terminale non sul notebook) e come è possibile eseguirle ripetutamente da un unico file.\n",
    "\n",
    "Parleremo poi di due classi ROOT più avanzate:\n",
    "    - TTre\n",
    "    - TNtuple\n",
    "    \n",
    "Solitamente derivanti dall'acquisizione dati.\n",
    "\n",
    "**!!! importante** \n",
    "\n",
    "Nel file seguente alcune istruzioni (import ROOT e %%cpp) sono usate solo e soltanto per far funzionare il codice sul notebook, non vanno usate nel framework!"
   ]
  },
  {
   "cell_type": "markdown",
   "metadata": {},
   "source": [
    "## Macro e file .mac e .sh\n",
    "\n",
    "Il framework di ROOT permette di caricare ed eseguire macro, tuttavia cosa è una macro?\n",
    "\n",
    "Le librerie di ROOT possono essere sostanzialmente usate in due modi: si possono integrare in un programma compilabile in C++ (complicato da integrare e necessita di alcuni flag in compilazione) di cui parleremo brevemente oppure si possono scrivere dei codici in formalismo C++ che vengono poi eseguiti direttamente all'interno del framework, questa seconda opzione è detta macro.\n",
    "\n",
    "Facciamo un esempio: il file TH1toTxt.cc è un file c++ in cui è presente solamente un omonima funzione, esso non è eseguibile e compilabile con gcc (il classico compilatore C++) ma può essere eseguito comodamente all'interno del framework, analizziamolo meglio"
   ]
  },
  {
   "cell_type": "code",
   "execution_count": 1,
   "metadata": {},
   "outputs": [
    {
     "name": "stdout",
     "output_type": "stream",
     "text": [
      "Welcome to JupyROOT 6.14/06\n"
     ]
    }
   ],
   "source": [
    "import ROOT"
   ]
  },
  {
   "cell_type": "code",
   "execution_count": 2,
   "metadata": {},
   "outputs": [
    {
     "name": "stdout",
     "output_type": "stream",
     "text": [
      "void TH1toTxt (TH1F *h, string outfile) {\r\n",
      "\tofstream out (outfile);\r\n",
      "\tint n=h->GetNbinsX();\r\n",
      "\tfor (int i=0; i<n; i++) out<<h->GetBinCenter(i)<<\"\\t\"<<h->GetBinContent(i)<<endl;\r\n",
      "}\r\n"
     ]
    }
   ],
   "source": [
    "#per prima cosa vediamo cosa si trova nel file\n",
    "#!!!!questo non è root sto eseguendo nella shell\n",
    "!cat TH1toTxt.cc"
   ]
  },
  {
   "cell_type": "markdown",
   "metadata": {},
   "source": [
    "Sostanzialmente questo codice chiede un istogramma e il nome di un file di output in cui creare le coppie di punti corrispondenti ai suoi bin (così da poterne fare poi un TGraph).\n",
    "\n",
    "Il codice può essere comodamente eseguito all'interno del framework in due modi:\n",
    "1. con l'instruzione .x si esegue direttamente la macro dando i paramentri di input a patto che il nome del file e quello della funzione principale (quella che viene eseguita, simile al main in cpp) coincidano\n",
    "2. con l'istruzione .L si caricano tutte le funzioni presenti nel file e queste diventano poi eseguibili liberamente all'interno del framework\n",
    "\n",
    "Nel notebook non è possibile eseguire questi comandi (non sono cp nativi) quindi faremo un esempio direttamente da terminale, in ogni caso il codice che bisogna usare sarà:\n",
    "\n",
    "- root -l 100mSimK12_trigger.root -> apro il file root\n",
    "- .x TH1toTxt.cc (hAll, \"hAllout.txt\") ->eseguo la macro su hAll\n",
    "\n",
    "oppure nel secondo caso\n",
    "- root -l 100mSimK12_trigger.root -> apro il file root\n",
    "- .L TH1toTxt.cc                 ->carico la macro\n",
    "- TH1toTxt(hAll, \"hAllout.txt\") ->eseguo la macro su hAll\n",
    "\n",
    "\n",
    "Il secondo approccio risulta utile nel caso in un unico file vi siano molte macro che si vogliono eseguire indipendentemente.\n"
   ]
  },
  {
   "cell_type": "markdown",
   "metadata": {},
   "source": [
    "Infine analizziamo un ultimo caso: in caso si voglia usare la stessa macro ripetutamente è possibile scrivere un file che contiene un'esecuzione \"ripetuta\" della stessa, questo si può fare con i file .mac se si vuole agire all'interno del framework o con i file .sh se si vuole agire da terminale.\n",
    "\n",
    "Supponiamo per esempio di voler eseguire ripetutamente la macro di prima sui TH1F hSim, hAll, hRec ed hSel allora è possibile \"meccanizzare\" la cosa in due modi come vedremo nei due file TH1conv.mac e TH1conv.sh"
   ]
  },
  {
   "cell_type": "code",
   "execution_count": 3,
   "metadata": {},
   "outputs": [
    {
     "name": "stdout",
     "output_type": "stream",
     "text": [
      ".x TH1toTxt.cc (hSim, \"hSimout.txt\")\r\n",
      ".x TH1toTxt.cc (hAll, \"hAllout.txt\")\r\n",
      ".x TH1toTxt.cc (hSel, \"hSelout.txt\")\r\n",
      ".x TH1toTxt.cc (hRec, \"hRecout.txt\")\r\n"
     ]
    }
   ],
   "source": [
    "!cat TH1conv.mac"
   ]
  },
  {
   "cell_type": "markdown",
   "metadata": {},
   "source": [
    "In questo file vi è semplicemente l'istruzione di prima ripetuta 4 volte questo file va eseguito sempre con .x all'interno del framework di root quindi si può eseguire anche all'interno di un file già aperto.\n",
    "\n",
    "\n",
    "In alternativa se all'interno della macro vi sono le istruzioni necessarie per ricevere autonomamente i dati (ovvero se per eseguirla non è necessario essere già all'interno di uno specifico TFile allora è possibile eseguire la macro direttamente nella shell del terminale e la sua \"meccanizzazione\" può essere eseguita anche con un file .sh nel seguente modo: creiamo una macro che disegna e salva i file txt creati in precedenza:"
   ]
  },
  {
   "cell_type": "code",
   "execution_count": 4,
   "metadata": {},
   "outputs": [
    {
     "name": "stdout",
     "output_type": "stream",
     "text": [
      "void TxttoTGraph (string name) {\r\n",
      "\tTGraph * gr= new TGraph((name+\".txt\").c_str());\r\n",
      "\tTCanvas *c= new TCanvas(\"c\", \"c\", 600, 600);\r\n",
      "\tc->cd();\r\n",
      "\tgr->Draw();\r\n",
      "\tc->Draw();\r\n",
      "\tc->Print((name+\".png\").c_str());\r\n",
      "}\r\n",
      "\r\n",
      "//to execute in batch\r\n",
      "//root -l -b 'TxttoTGraph.cc (\"hAllout\"); exit (0)'\r\n"
     ]
    }
   ],
   "source": [
    "!cat TxttoTGraph.cc"
   ]
  },
  {
   "cell_type": "markdown",
   "metadata": {},
   "source": [
    "Il file semplicemente crea un TGraph e poi salva il canvas in png, piccola nota è il fatto che il metodo print chiede un array di char quindi è necessario convertire con .c_str().\n",
    "\n",
    "La macro in questo caso può essere eseguita dentro al framework come già visto semplicemente chiamando \n",
    "- .x TxttoTGraph.cc (\"hAllout\")\n",
    "\n",
    "Oppure eseguita nella shell con l'istruzione\n",
    "- root -l -b 'TxttoTGraph.cc (\"hAllout\"); exit (0)'\n",
    "Dove exit zero serve per tornare poi al terminale e -b serve per eseguire in background (ovvero non mostrerà i canvas)\n",
    "\n",
    "Per meccanizzare questa operazione ai quattro file creati prima basta scrivere il codice di esecuzione in un file .mac da eseguire nel framework (quindi con quattro copie della prima istruzione) oppure in modo da eseguirlo all'esterno in un file sh eseguibile come un normale file bash"
   ]
  },
  {
   "cell_type": "code",
   "execution_count": 5,
   "metadata": {},
   "outputs": [
    {
     "name": "stdout",
     "output_type": "stream",
     "text": [
      "root -l -b 'TxttoTGraph.cc (\"hAllout\"); exit (0)'\r\n",
      "root -l -b 'TxttoTGraph.cc (\"hSimout\"); exit (0)'\r\n",
      "root -l -b 'TxttoTGraph.cc (\"hRecout\"); exit (0)'\r\n",
      "root -l -b 'TxttoTGraph.cc (\"hSelout\"); exit (0)'\r\n"
     ]
    }
   ],
   "source": [
    "!cat Txtconv.sh"
   ]
  },
  {
   "cell_type": "markdown",
   "metadata": {},
   "source": [
    "Questo file semplicemente esegue 4 volte l'struzione ed esce ogni volta in modo che sia nuovamente chiamabile da shell, per eseguirlo è sufficiente digitare\n",
    "    - source Txtconv.sh\n",
    "\n",
    "La cosa comoda è che volendo in questo secondo modo si possono aggiungere comandi nativi della shell, per esempio si può chiedere alla funzione di aprire i file .png creati, come in questo secondo file (analogo al primo ma con un'istruzione in più):"
   ]
  },
  {
   "cell_type": "code",
   "execution_count": 6,
   "metadata": {},
   "outputs": [
    {
     "name": "stdout",
     "output_type": "stream",
     "text": [
      "root -l -b 'TxttoTGraph.cc (\"hAllout\"); exit (0)'\r\n",
      "root -l -b 'TxttoTGraph.cc (\"hSimout\"); exit (0)'\r\n",
      "root -l -b 'TxttoTGraph.cc (\"hRecout\"); exit (0)'\r\n",
      "root -l -b 'TxttoTGraph.cc (\"hSelout\"); exit (0)'\r\n",
      "\r\n",
      "eog *.png &\r\n"
     ]
    }
   ],
   "source": [
    "!cat Txtconv2.sh"
   ]
  },
  {
   "cell_type": "markdown",
   "metadata": {},
   "source": [
    "## TNtuple e TTree\n",
    "\n",
    "Le [TNtuple](https://root.cern.ch/doc/master/classTNtuple.html) sono per definizione \"A simple TTree restricted to a list of float variables only.\"\n",
    "\n",
    "In generale non vi è molta diffrenza tra le due classi, esse sostanzialmente permettono di immagazzinare una serie di dati mantenendoli nell'ordine di aquisizione, la differenza è che in un'Ntupla i dati salvati sono tutti quanti float mentre un albero permette di salvare tipi di dati più complessi (anche classi).\n",
    "\n",
    "La funzionalità maggiore è la possibilità di plottare i dati in coppia in modo tale da cercare correlazioni e di mantenere in un unico oggetto tutti i dati su cui si vorrà poi fare analisi statistica ( supponendo essi derivino da un'acuisizione comune).\n",
    "\n",
    "In generale non ci addentreremo molto nel come creare e modificare Ntuple e TTre poichè questa cosa viene in generale fatti dal software di acquisizione ma piuttosto su come usare i dati contenuti."
   ]
  },
  {
   "cell_type": "markdown",
   "metadata": {},
   "source": [
    "Proviamo come esempio a creare un Ntupla e un TTre in cui caricare i dati del file LD30kAngle.txt, senza scendere nei dettagli dei costruttori vedimao direttamente la procedura \"standard\" per creare l'ntupla e il TTree, in questo caso le due strutture saranno sostanzialmente equivalenti essendo tutti i dati di tipo float però in caso avessimo input più complessi sarebbe stato necessario usare solamente i TTree oppure semplicare i dati."
   ]
  },
  {
   "cell_type": "code",
   "execution_count": 7,
   "metadata": {},
   "outputs": [],
   "source": [
    "%%cpp\n",
    "//per prima cosa ci servono i file di input\n",
    "ifstream in_ntu (\"LD30kAngle.txt\");\n",
    "//creiamo una Ntupla\n",
    "//uso un puntatore (si fa anche in statico volendo)\n",
    "//per creare una ntupla servono nome titolo e lista delle variabili\n",
    "TNtuple *ntu=new TNtuple(\"ntu\", \"mass distance and error\", \"m:d:e\");\n",
    "\n",
    "//creo le variabili con cui fillarla\n",
    "float m, d, e;"
   ]
  },
  {
   "cell_type": "code",
   "execution_count": 8,
   "metadata": {},
   "outputs": [],
   "source": [
    "%%cpp\n",
    "while (in_ntu>>m>>d>>e){ //finche ricevo dati\n",
    "    ntu->Fill(m,d,e); //uso fill per caricarla\n",
    "}"
   ]
  },
  {
   "cell_type": "markdown",
   "metadata": {},
   "source": [
    "Per disegnare a schermo un'ntupla si è sufficiente usare Draw() specificando la variabile che si vuole plottare, esistono poi altre opzioni che vedremo ma intando proviamo a disegnare le prime due colonne (massa e distanza)."
   ]
  },
  {
   "cell_type": "code",
   "execution_count": 9,
   "metadata": {},
   "outputs": [
    {
     "data": {
      "image/png": "[encoded data removed]",
      "text/plain": [
       "<IPython.core.display.Image object>"
      ]
     },
     "metadata": {},
     "output_type": "display_data"
    }
   ],
   "source": [
    "%%cpp\n",
    "//faccio un canvas\n",
    "TCanvas *cntu= new TCanvas (\"cntu\", \"cntu\", 800, 400);\n",
    "cntu->Divide(2,1);\n",
    "\n",
    "cntu->cd(1);\n",
    "//disegno la colonna della variabile m della ntupla\n",
    "ntu->Draw(\"m\");\n",
    "\n",
    "cntu->cd(2);\n",
    "//disegno la colonna d della ntupla\n",
    "ntu->Draw(\"d\");\n",
    "\n",
    "cntu->Draw();"
   ]
  },
  {
   "cell_type": "markdown",
   "metadata": {},
   "source": [
    "Quando si invoca Draw su un colonna della ntupla essa disegna automaticamente la colonna come unn TH1, tuttavia spesso il binning e il range lasciano molto a desiderare, vedremo come migliorare la cosa più avanti infatti.\n",
    "\n",
    "Ora proviamo a fare una cosa analoga usando un TTre:"
   ]
  },
  {
   "cell_type": "code",
   "execution_count": 10,
   "metadata": {},
   "outputs": [],
   "source": [
    "%%cpp \n",
    "//ora creaiamo un TTre\n",
    "//per prima cosa bisogna dichiararlo\n",
    "TTree *tree = new TTree (\"tree\", \"mass and distance Tree\");\n",
    "//poi bisogna creare le variabili con cui lo si fillera (per referenza)\n",
    "float mt, dt, et; //devo cambiare i nomi perche m,d,e sono gia definite\n",
    "//ora creo input per albero\n",
    "ifstream in_tree (\"LD30kAngle.txt\");\n",
    "\n",
    "//per caricare i dati nel TTree bisogna creare le branch, vi sono molti modi per farlo ma per i dati semplici \n",
    "//e sufficiente fare cosi\n",
    "//creo tre divisioni dell albero, chiamate branch,\n",
    "//ogni branch e collegata per referenza a una delle variabili da caricare\n",
    "//il terzo parametro specifica il formato con cui si carica la variabile /F->float\n",
    "//ogni branch sara quindi collegata per referenza a una variabile\n",
    "TBranch *m_branch = tree->Branch(\"mt\", &mt, \"mt/F\");\n",
    "TBranch *d_branch = tree->Branch(\"dt\", &dt, \"dt/F\");\n",
    "TBranch *e_branch = tree->Branch(\"et\", &et, \"et/F\");\n",
    "\n"
   ]
  },
  {
   "cell_type": "markdown",
   "metadata": {},
   "source": [
    "Ora che ho creato l'abero posso caricare i valori, per farlo a differenza dell'ntupla il metodo fill va chiamato senza parametro, questo perchè essendo definito per referenza alle variabili il metodo fill fa un loop su tutti i branch definiti e salva il valore della corrispondente variabile"
   ]
  },
  {
   "cell_type": "code",
   "execution_count": 11,
   "metadata": {},
   "outputs": [],
   "source": [
    "%%cpp\n",
    "while (in_tree>>mt>>dt>>et) tree->Fill();"
   ]
  },
  {
   "cell_type": "markdown",
   "metadata": {},
   "source": [
    "Proviamo ora a disegnare come abbimao fatto prima:"
   ]
  },
  {
   "cell_type": "code",
   "execution_count": 12,
   "metadata": {},
   "outputs": [
    {
     "data": {
      "image/png": "[encoded data removed]",
      "text/plain": [
       "<IPython.core.display.Image object>"
      ]
     },
     "metadata": {},
     "output_type": "display_data"
    }
   ],
   "source": [
    "%%cpp\n",
    "TCanvas *ctree= new TCanvas (\"ctree\", \"ctree\", 800, 400);\n",
    "ctree->Divide(2,1);\n",
    "ctree->cd(1);\n",
    "tree->Draw(\"mt\");\n",
    "ctree->cd(2);\n",
    "tree->Draw(\"dt\");\n",
    "ctree->Draw();"
   ]
  },
  {
   "cell_type": "markdown",
   "metadata": {},
   "source": [
    "## Lavorare su TTree e TNtuple\n",
    "\n",
    "Generalmente non si ha necessità di creare un albero e/o ntupla ma piuttosto di analizzare i dati presenti in uno di essi. \n",
    "Nel caso in cui si sia in possesso di un file contentte un'Ntupla o TTree è possibile vederne il contenuto (le branch) con il metodo print(), nei seguenti esempi useremo l'albero presente nel file dataD13Ntuple.root, per prima cosa spostiamoci nel file:\n",
    "\n",
    "**Osservazione**\n",
    "Quello che faremo in seguito sarà eseguito su un albero ma essendo le Ntuple una classe che eredita da TTree tutto quanto dovrebbe essere ugualmente riproducibile su una Ntupla."
   ]
  },
  {
   "cell_type": "code",
   "execution_count": 13,
   "metadata": {},
   "outputs": [],
   "source": [
    "%%cpp\n",
    "TFile *file=new TFile(\"dataD13Ntuple.root\", \"READ\"); //apro il file in lettura\n",
    "file->cd();"
   ]
  },
  {
   "cell_type": "markdown",
   "metadata": {},
   "source": [
    "Nel file è presente un TTree chiamato data, vediamo cosa contiene usando print()\n"
   ]
  },
  {
   "cell_type": "code",
   "execution_count": 14,
   "metadata": {},
   "outputs": [
    {
     "name": "stdout",
     "output_type": "stream",
     "text": [
      "******************************************************************************\n",
      "*Tree    :data      : data                                                   *\n",
      "*Entries :    21014 : Total =         4650526 bytes  File  Size =    3636422 *\n",
      "*        :          : Tree compression factor =   1.28                       *\n",
      "******************************************************************************\n",
      "*Br    0 :BsMass    : BsMass/D                                               *\n",
      "*Entries :    21014 : Total  Size=     169047 bytes  File Size  =      92800 *\n",
      "*Baskets :        6 : Basket Size=      32000 bytes  Compression=   1.82     *\n",
      "*............................................................................*\n",
      "*Br    1 :JPsiMass  : JPsiMass/D                                             *\n",
      "*Entries :    21014 : Total  Size=     169067 bytes  File Size  =      81846 *\n",
      "*Baskets :        6 : Basket Size=      32000 bytes  Compression=   2.06     *\n",
      "*............................................................................*\n",
      "*Br    2 :PhiMass   : PhiMass/D                                              *\n",
      "*Entries :    21014 : Total  Size=     169057 bytes  File Size  =      82484 *\n",
      "*Baskets :        6 : Basket Size=      32000 bytes  Compression=   2.04     *\n",
      "*............................................................................*\n",
      "*Br    3 :distTrack : distTrack/D                                            *\n",
      "*Entries :    21014 : Total  Size=     169077 bytes  File Size  =     161140 *\n",
      "*Baskets :        6 : Basket Size=      32000 bytes  Compression=   1.05     *\n",
      "*............................................................................*\n",
      "*Br    4 :distAngle : distAngle/D                                            *\n",
      "*Entries :    21014 : Total  Size=     169077 bytes  File Size  =     160111 *\n",
      "*Baskets :        6 : Basket Size=      32000 bytes  Compression=   1.05     *\n",
      "*............................................................................*\n",
      "*Br    5 :distAllNoBs : distAllNoBs/D                                        *\n",
      "*Entries :    21014 : Total  Size=     169097 bytes  File Size  =     159245 *\n",
      "*Baskets :        6 : Basket Size=      32000 bytes  Compression=   1.06     *\n",
      "*............................................................................*\n",
      "*Br    6 :distAll   : distAll/D                                              *\n",
      "*Entries :    21014 : Total  Size=     169057 bytes  File Size  =     161043 *\n",
      "*Baskets :        6 : Basket Size=      32000 bytes  Compression=   1.05     *\n",
      "*............................................................................*\n",
      "*Br    7 :distRcNoBs : distRcNoBs/D                                          *\n",
      "*Entries :    21014 : Total  Size=     169087 bytes  File Size  =     158660 *\n",
      "*Baskets :        6 : Basket Size=      32000 bytes  Compression=   1.06     *\n",
      "*............................................................................*\n",
      "*Br    8 :distRc    : distRc/D                                               *\n",
      "*Entries :    21014 : Total  Size=     169047 bytes  File Size  =     161063 *\n",
      "*Baskets :        6 : Basket Size=      32000 bytes  Compression=   1.05     *\n",
      "*............................................................................*\n",
      "*Br    9 :eTrack    : eTrack/D                                               *\n",
      "*Entries :    21014 : Total  Size=     169047 bytes  File Size  =     157967 *\n",
      "*Baskets :        6 : Basket Size=      32000 bytes  Compression=   1.07     *\n",
      "*............................................................................*\n",
      "*Br   10 :eAngle    : eAngle/D                                               *\n",
      "*Entries :    21014 : Total  Size=     169047 bytes  File Size  =     158161 *\n",
      "*Baskets :        6 : Basket Size=      32000 bytes  Compression=   1.07     *\n",
      "*............................................................................*\n",
      "*Br   11 :eAllNoBs  : eAllNoBs/D                                             *\n",
      "*Entries :    21014 : Total  Size=     169067 bytes  File Size  =     156511 *\n",
      "*Baskets :        6 : Basket Size=      32000 bytes  Compression=   1.08     *\n",
      "*............................................................................*\n",
      "*Br   12 :eAll      : eAll/D                                                 *\n",
      "*Entries :    21014 : Total  Size=     169027 bytes  File Size  =     157980 *\n",
      "*Baskets :        6 : Basket Size=      32000 bytes  Compression=   1.07     *\n",
      "*............................................................................*\n",
      "*Br   13 :eRcNoBs   : eRcNoBs/D                                              *\n",
      "*Entries :    21014 : Total  Size=     169057 bytes  File Size  =     155862 *\n",
      "*Baskets :        6 : Basket Size=      32000 bytes  Compression=   1.08     *\n",
      "*............................................................................*\n",
      "*Br   14 :eRc       : eRc/D                                                  *\n",
      "*Entries :    21014 : Total  Size=     169017 bytes  File Size  =     157969 *\n",
      "*Baskets :        6 : Basket Size=      32000 bytes  Compression=   1.07     *\n",
      "*............................................................................*\n",
      "*Br   15 :BsPt      : BsPt/D                                                 *\n",
      "*Entries :    21014 : Total  Size=     169027 bytes  File Size  =     158119 *\n",
      "*Baskets :        6 : Basket Size=      32000 bytes  Compression=   1.07     *\n",
      "*............................................................................*\n",
      "*Br   16 :JPsiPt    : JPsiPt/D                                               *\n",
      "*Entries :    21014 : Total  Size=     169047 bytes  File Size  =     140369 *\n",
      "*Baskets :        6 : Basket Size=      32000 bytes  Compression=   1.20     *\n",
      "*............................................................................*\n",
      "*Br   17 :PhiPt     : PhiPt/D                                                *\n",
      "*Entries :    21014 : Total  Size=     169037 bytes  File Size  =     158945 *\n",
      "*Baskets :        6 : Basket Size=      32000 bytes  Compression=   1.06     *\n",
      "*............................................................................*\n",
      "*Br   18 :K1Pt      : K1Pt/D                                                 *\n",
      "*Entries :    21014 : Total  Size=     169027 bytes  File Size  =     142652 *\n",
      "*Baskets :        6 : Basket Size=      32000 bytes  Compression=   1.18     *\n",
      "*............................................................................*\n",
      "*Br   19 :K2Pt      : K2Pt/D                                                 *\n",
      "*Entries :    21014 : Total  Size=     169027 bytes  File Size  =     142196 *\n",
      "*Baskets :        6 : Basket Size=      32000 bytes  Compression=   1.19     *\n",
      "*............................................................................*\n",
      "*Br   20 :mu1Pt     : mu1Pt/D                                                *\n",
      "*Entries :    21014 : Total  Size=     169037 bytes  File Size  =     140046 *\n",
      "*Baskets :        6 : Basket Size=      32000 bytes  Compression=   1.20     *\n",
      "*............................................................................*\n",
      "*Br   21 :mu2Pt     : mu2Pt/D                                                *\n",
      "*Entries :    21014 : Total  Size=     169037 bytes  File Size  =     139867 *\n",
      "*Baskets :        6 : Basket Size=      32000 bytes  Compression=   1.21     *\n",
      "*............................................................................*\n",
      "*Br   22 :mu1Eta    : mu1Eta/D                                               *\n",
      "*Entries :    21014 : Total  Size=     169047 bytes  File Size  =      99660 *\n",
      "*Baskets :        6 : Basket Size=      32000 bytes  Compression=   1.69     *\n",
      "*............................................................................*\n",
      "*Br   23 :mu2Eta    : mu2Eta /D                                              *\n",
      "*Entries :    21014 : Total  Size=     169050 bytes  File Size  =      99453 *\n",
      "*Baskets :        6 : Basket Size=      32000 bytes  Compression=   1.69     *\n",
      "*............................................................................*\n",
      "*Br   24 :prob      : prob/D                                                 *\n",
      "*Entries :    21014 : Total  Size=     169027 bytes  File Size  =     158863 *\n",
      "*Baskets :        6 : Basket Size=      32000 bytes  Compression=   1.06     *\n",
      "*............................................................................*\n",
      "*Br   25 :runNum    : runNum/I                                               *\n",
      "*Entries :    21014 : Total  Size=      84764 bytes  File Size  =        750 *\n",
      "*Baskets :        3 : Basket Size=      32000 bytes  Compression= 112.37     *\n",
      "*............................................................................*\n",
      "*Br   26 :evNum     : evNum/I                                                *\n",
      "*Entries :    21014 : Total  Size=      84757 bytes  File Size  =      68556 *\n",
      "*Baskets :        3 : Basket Size=      32000 bytes  Compression=   1.23     *\n",
      "*............................................................................*\n",
      "*Br   27 :trig1     : trig1/I                                                *\n",
      "*Entries :    21014 : Total  Size=      84757 bytes  File Size  =       7536 *\n",
      "*Baskets :        3 : Basket Size=      32000 bytes  Compression=  11.18     *\n",
      "*............................................................................*\n",
      "*Br   28 :trig2     : trig2/I                                                *\n",
      "*Entries :    21014 : Total  Size=      84757 bytes  File Size  =       5089 *\n",
      "*Baskets :        3 : Basket Size=      32000 bytes  Compression=  16.56     *\n",
      "*............................................................................*\n",
      "*Br   29 :trig12    : trig12/I                                               *\n",
      "*Entries :    21014 : Total  Size=      84764 bytes  File Size  =       8352 *\n",
      "*Baskets :        3 : Basket Size=      32000 bytes  Compression=  10.09     *\n",
      "*............................................................................*\n"
     ]
    }
   ],
   "source": [
    "%%cpp\n",
    "data->Print();"
   ]
  },
  {
   "cell_type": "markdown",
   "metadata": {},
   "source": [
    "Come potete vedere vi sono 29 branches (br1->29) contenenti i risultati di 21000 eventi circa, la maggior parte sono double (/D) e alcune contengono interi (/I). Le altre informazioni non sono di nostro interesse (riguardano come viene gestita la memoria dei dati).\n",
    "\n",
    "Ora che sappiamo cosa contiene il nostro albero proviamo a lavorarci un po', in seguito tralascieremo la parte estetica per contentrarci piuttosto su come usare i dati.\n",
    "\n",
    "Una delle cose che è possibile fare e da una branch di un TTree ottenere un TH1, questo può essere sostanzialmente fatto in due modi, un modo più \"formale\" e uno più \"furbo\"."
   ]
  },
  {
   "cell_type": "markdown",
   "metadata": {},
   "source": [
    "Supponiamo di voler ottenere un TH1F dalla branch PhiMass, è possibile farlo direttamente usando il metodo GetHistogram:\n",
    "\n",
    "**ATTENZIONE**\n",
    "\n",
    "Il metodo ritorna in TH1 NON TH1F quindi è OBBLIGATORIO eseguire un cast ( come abbiamo fatto per il metodo clone dei TH1F)"
   ]
  },
  {
   "cell_type": "code",
   "execution_count": 15,
   "metadata": {},
   "outputs": [],
   "source": [
    "%%cpp\n",
    "TCanvas *ct=new TCanvas(\"ct\", \"ct\", 600,600);\n",
    "TCanvas *ct2=new TCanvas(\"ct2\", \"ct2\", 600,600);\n"
   ]
  },
  {
   "cell_type": "code",
   "execution_count": 16,
   "metadata": {},
   "outputs": [
    {
     "data": {
      "image/png": "[encoded data removed]",
      "text/plain": [
       "<IPython.core.display.Image object>"
      ]
     },
     "metadata": {},
     "output_type": "display_data"
    }
   ],
   "source": [
    "%%cpp\n",
    "ct->cd();\n",
    "data->Draw(\"PhiMass\");\n",
    "TH1F *mPhi = (TH1F*)data->GetHistogram();\n",
    "ct->Draw();\n"
   ]
  },
  {
   "cell_type": "code",
   "execution_count": 17,
   "metadata": {},
   "outputs": [
    {
     "data": {
      "image/png": "[encoded data removed]",
      "text/plain": [
       "<IPython.core.display.Image object>"
      ]
     },
     "metadata": {},
     "output_type": "display_data"
    }
   ],
   "source": [
    "%%cpp\n",
    "ct2->cd();\n",
    "mPhi->Draw();\n",
    "ct2->Draw();"
   ]
  },
  {
   "cell_type": "markdown",
   "metadata": {},
   "source": [
    "Sostanzialmente il metodo salva in un istogramma la branch che al momento è mostrata a schermo, la definizione è infatti:\n",
    "\n",
    " TH1                    *GetHistogram() { return GetPlayer()->GetHistogram(); }\n",
    " \n",
    "Il problema di questo approccio tuttavia è che il binning e la rappresentazione sono spesso fatti automaticamente quindi non nel modo corretto per farvi poi un'analisi.\n",
    "\n",
    "L'alternativa è usare il metodo Draw ridirigendo l'output (con l'operatore >>) a un istogramma con binning e range scelto da noi:"
   ]
  },
  {
   "cell_type": "code",
   "execution_count": 18,
   "metadata": {},
   "outputs": [
    {
     "data": {
      "image/png": "[encoded data removed]",
      "text/plain": [
       "<IPython.core.display.Image object>"
      ]
     },
     "metadata": {},
     "output_type": "display_data"
    }
   ],
   "source": [
    "%%cpp\n",
    "\n",
    "//per prima cosa definiamo un TH1F con le caratteristiche che vogliamo noi\n",
    "TH1F *mPhiNice = new TH1F (\"mPhiNice\", \"PhiMass\", 200, 1, 1.04);\n",
    "//ora usiamo Draw ma ridirigiamo l output sul th1f che abbiamo creato\n",
    "data->Draw(\"PhiMass>>mPhiNice\");\n",
    "\n",
    "//disegniamo il risultato\n",
    "TCanvas * ct3= new TCanvas (\"ct3\", \"ct3\", 600, 600);\n",
    "ct3->cd();\n",
    "mPhiNice->Draw();\n",
    "ct3->Draw();"
   ]
  },
  {
   "cell_type": "markdown",
   "metadata": {},
   "source": [
    "Il risultato ora è molto meglio, su questo istogramma potremo poi fare analisi dati, sul precedente no!"
   ]
  },
  {
   "cell_type": "markdown",
   "metadata": {},
   "source": [
    "Ora sappiamo come disegnare e ottenere singoli istogrammi dai TTree, la potenzialità maggiore tuttavia è la possibilità di creare plot bidimensionali partendo dai singoli dati (ad esempio per cercare correlazioni) ma soprattutto la possibilità di usare il metodo Draw per \"filtrare\" i dati prima di salvarli in un istogramma, facciamo alcuni esempi:"
   ]
  },
  {
   "cell_type": "markdown",
   "metadata": {},
   "source": [
    "I dati nell'albero sono in verità eventi con un alto tasso di fondo, per eliminare il fondo dobbiamo scegliere alcuni \"tagli\" con cui filtrare i dati, per esempio proviamo a vedere se ci sono correlazioni tra la branch K1Pt e la branch BsMass, per fare ciò bisogna usare sempre il metodo Draw chiedendo di mostrare entrambe le branch:"
   ]
  },
  {
   "cell_type": "code",
   "execution_count": 19,
   "metadata": {},
   "outputs": [
    {
     "data": {
      "image/png": "[encoded data removed]",
      "text/plain": [
       "<IPython.core.display.Image object>"
      ]
     },
     "metadata": {},
     "output_type": "display_data"
    }
   ],
   "source": [
    "%%cpp\n",
    "TCanvas *kp1bs= new TCanvas(\"kp1bs\", \"kp1bs\", 600,600);\n",
    "kp1bs->cd();\n",
    "data->Draw(\"BsMass:K1Pt\");\n",
    "kp1bs->Draw();"
   ]
  },
  {
   "cell_type": "markdown",
   "metadata": {},
   "source": [
    "Usando questo range tuttavia non si riesce molto a intuire molto bene la distribuzione dei dati, proviamo a restingere un po' il range"
   ]
  },
  {
   "cell_type": "code",
   "execution_count": null,
   "metadata": {},
   "outputs": [],
   "source": []
  }
 ],
 "metadata": {
  "kernelspec": {
   "display_name": "Python 2",
   "language": "python",
   "name": "python2"
  },
  "language_info": {
   "codemirror_mode": {
    "name": "ipython",
    "version": 2
   },
   "file_extension": ".py",
   "mimetype": "text/x-python",
   "name": "python",
   "nbconvert_exporter": "python",
   "pygments_lexer": "ipython2",
   "version": "2.7.17"
  }
 },
 "nbformat": 4,
 "nbformat_minor": 2
}
