{
 "cells": [
  {
   "cell_type": "markdown",
   "metadata": {},
   "source": [
    "# Istogrammi in ROOT, gestione file e macro\n",
    "\n",
    "In questo notebook andremo a vedere come è possibile gestire i file con estensione .root, comunemente infatti il framework ROOT viene usato per analizzare gli elementi derivate dall'acquisizione di dati, salvati in formato .root appunto.\n",
    "\n",
    "Successivamente andremo a vedere l'ultima classe fondamentale dell'analisi dati con ROOT:  TH1, che gestisce gli istrogrammi.\n",
    "\n",
    "Infine vedremo come si possono creare macro eseguibili in ambiente ROOT e integrare ROOT in un codice C++ compilabile.\n",
    "\n",
    "**!!! importante** \n",
    "\n",
    "Nel file seguente alcune istruzioni (import ROOT e %%cpp) sono usate solo e soltanto per far funzionare il codice sul notebook, non vanno usate nel framework!"
   ]
  },
  {
   "cell_type": "code",
   "execution_count": 1,
   "metadata": {},
   "outputs": [
    {
     "name": "stdout",
     "output_type": "stream",
     "text": [
      "Welcome to JupyROOT 6.14/06\n"
     ]
    }
   ],
   "source": [
    "import ROOT\n",
    "#al solito questo serve solo per importare root nel notebook non serve scriverlo nel framework"
   ]
  },
  {
   "cell_type": "markdown",
   "metadata": {},
   "source": [
    "## TFile\n",
    "\n",
    "I [TFile](https://root.cern.ch/doc/master/classTFile.html) sono una classe Root che si occupa di aprire, modificare e spostarsi nei file .root all'interno del framework.\n",
    "\n",
    "Una volta in possesso di un file .root che si vuole aprire per farvi analisi dati (ad esempio un file contenente delle misurazioni salvate come istrogramma) vi sono due modi per aprirlo nel framework:\n",
    "\n",
    "1. Il modo più semplice per aprire un file all'interno del framework è direttamente dal terminale al momento dell'apertura di root dare il nome del file, as esempio l'istruzione\n",
    "\n",
    "     - root -l 100mSimK12_trigger.root\n",
    "\n",
    "Aprirà il file 100mSimK12_trigger.root all'interno del framework e il suo contenuto (molti istogrammi) diventerà direttamente utilizzabile, (nel fare ciò viene aperto automaticamente un TFile a cui viene assegnato il file)\n",
    "\n",
    "2. E' possibile aprire il file \"manualmente\" quando si è già all'interno di root tramite appunto l'uso dei TFile.\n",
    "\n",
    "Il costruttore di un TFile (al parte quello di default) è:\n",
    "\n",
    "TFile::TFile\t(\tconst char * \tfname1,\n",
    "Option_t * \toption = \"\",\n",
    "const char * \tftitle = \"\",\n",
    "Int_t \tcompress = ROOT::RCompressionSetting::EDefaults::kUseGeneralPurpose \n",
    ")\t\n",
    "\n",
    "Come potete vedere l'unico paramentro \"obbligatorio\" è il nome del file, gli altri paramentri sono opzionali.\n",
    "E' importante ricordare che quando si apre un file spesso è importante dare al costruttore oltre al nome un'opzione che identifica l'uso che si farà del file:\n",
    "    - CREATE crea un nuovo file se non ne esistono con lo stesso nome\n",
    "    - RECREATE crea un nuovo file e sovrascrive quello vecchio se hanno lo stesso nome\n",
    "    - UPDATE apre un file con possibilità di modificarlo\n",
    "    - READ apre un file in sola lettura\n",
    "    \n",
    "Nel notebook è possibile usare solo questa seconda opzione, ad esempio proviamo ad aprire il file 100mSimK12_trigger:\n"
   ]
  },
  {
   "cell_type": "code",
   "execution_count": 2,
   "metadata": {},
   "outputs": [],
   "source": [
    "%%cpp\n",
    "TFile *file = new TFile (\"100mSimK12_trigger.root\"); //creo un Tfile con cui gestire 100mSimK12_trigger\n",
    "file->cd(); // mi sposto nel file tramite il TFile"
   ]
  },
  {
   "cell_type": "markdown",
   "metadata": {},
   "source": [
    "Quando siete nel framework per vedere il contenuto di un file è sufficiente mandare l'istruzione .ls e a scehrmo verranno scritti tutti gli oggetti contenuti (sul notebook non funziona perchè non è cpp nativo).\n",
    "\n",
    "Una volta aperto è possibile usare tutti gli elementi all'interno, per esempio nel file vi è un istogramma chiamato BsMass (vedremo poi gli istogrammi nel dettaglio) e quindi possiamo direttamente stamparlo"
   ]
  },
  {
   "cell_type": "code",
   "execution_count": 3,
   "metadata": {},
   "outputs": [
    {
     "data": {
      "image/png": "[encoded data removed]",
      "text/plain": [
       "<IPython.core.display.Image object>"
      ]
     },
     "metadata": {},
     "output_type": "display_data"
    }
   ],
   "source": [
    "%%cpp\n",
    "TCanvas *c= new TCanvas(\"c\", \"c\", 600, 600);\n",
    "c->cd();\n",
    "BsMass->Draw();\n",
    "c->Draw()"
   ]
  },
  {
   "cell_type": "markdown",
   "metadata": {},
   "source": [
    "E' estremamente importante sapere che una volta che un file viene aperto e modificato (per esempio quando create funzioni, fate fit eccetera) le modifiche NON vengono mai salvate automaticamente, questo è utile visto che permette di modificare \"in modo sicuro\" gli oggetti senza modificarli in modo irreversibile.\n",
    "\n",
    "Per salvare ciò che avete prodotto e/o modificato è necessario chiamare il metodo Write che scrive nel file corrente gli elementi che avete creato.\n",
    "\n",
    "Il modo con cui viene gestita la memoria è estremamente complicato quindi non vedremo nel dettaglio come funziona, in generale è sufficiente una volta che si è nel file chiamare il metodo write reimplementato per un particolare oggetto; ad esempio:\n"
   ]
  },
  {
   "cell_type": "code",
   "execution_count": 4,
   "metadata": {},
   "outputs": [],
   "source": [
    "%%cpp\n",
    "TFile *file2= new TFile(\"file.root\", \"RECREATE\"); //creo un nuovo file ( lo sovrascrivo se gia esiste)\n",
    "//state molto attenti a CREATE/RECREATE perche la sovrascrittura e irreversibile\n",
    "file2->cd(); //mi sposto nel file\n",
    "TF1 *f1= new TF1(\"f1\", \"sin(x)\", 0,4); //creo una funzione"
   ]
  },
  {
   "cell_type": "markdown",
   "metadata": {},
   "source": [
    "Se a questo punto scrivete .ls per vedere gli elementi nel file non vedrete nulla (non la TF1 almeno) questo perchè non l'avete ancora salvata:"
   ]
  },
  {
   "cell_type": "code",
   "execution_count": 5,
   "metadata": {},
   "outputs": [],
   "source": [
    "%%cpp\n",
    "f1->Write(); //scrivo la funzione nel file\n",
    "file2->Close(); //chiudo il file cosi da vedere se si e salvato davvero"
   ]
  },
  {
   "cell_type": "code",
   "execution_count": 6,
   "metadata": {},
   "outputs": [
    {
     "data": {
      "image/png": "[encoded data removed]",
      "text/plain": [
       "<IPython.core.display.Image object>"
      ]
     },
     "metadata": {},
     "output_type": "display_data"
    }
   ],
   "source": [
    "%%cpp\n",
    "TFile *file3= new TFile(\"file.root\", \"READ\"); //apro il file di prima in modalita lettura\n",
    "file3->cd(); //mi sposto nel file\n",
    "TCanvas *c2=new TCanvas(\"c2\", \"c2\", 600, 600);\n",
    "c2->cd();\n",
    "f1->Draw(); //disegno la funzione che prima ho salvato\n",
    "c2->Draw();\n"
   ]
  },
  {
   "cell_type": "markdown",
   "metadata": {},
   "source": [
    "Se poi volessi riaprire il file per modificarlo lo dovrò aprire in modalità \"UPDATE\""
   ]
  },
  {
   "cell_type": "markdown",
   "metadata": {},
   "source": [
    "## TH1\n",
    "\n",
    "I [TH1](https://root.cern.ch/doc/master/classTH1.html) sono una delle classi più importanti di ROOT.\n",
    "I TH1 si occupano della gestione degli istogrammi 1-dimensionali e vengono reimplementati in sostanzialmente tre opzioni, che sono le classi concrete che useremo:\n",
    "    - TH1F istogramma dove i dati ricevuti sono float\n",
    "    - TH1D istogramma dove i dati ricevuti sono double\n",
    "    - TH1I istogramma dove i dati ricevuti sono interi\n",
    "    \n",
    "Nei seguenti esempi useremo sostanzialmente solo i TH1F ma tutto ciò che diremo vale anche per gli altri.\n",
    "\n",
    "**Nota**\n",
    "Esistono le rispettive classi TH2F, TH2D, TH2I che gestiscono gli istogrammi bidimensionali (poco usati)"
   ]
  },
  {
   "cell_type": "markdown",
   "metadata": {},
   "source": [
    "Come potete vedere dalla documentazione i TH1 hanno una quantità di metodi enorme, in ogni caso il costruttore più usato (si usa sempre questo a meno che non vogliate fare istogrammi a binning variabile) è:\n",
    "\n",
    "    TH1 (const char *name, const char *title, Int_t nbinsx, Double_t xlow, Double_t xup)\n",
    "    \n",
    "Che chiede nome, titolo, numero di bin, e range (min e max).\n",
    "Per riempire l'istrogramma esiste poi un metodo chiamato Fill che chiede in input un dato oppure un dato e il suo peso, mentre per disegnarlo esiste una reimplementazione del metodo Draw.\n",
    "\n",
    "Facciamo un esempio:"
   ]
  },
  {
   "cell_type": "code",
   "execution_count": 7,
   "metadata": {},
   "outputs": [
    {
     "data": {
      "image/png": "[encoded data removed]",
      "text/plain": [
       "<IPython.core.display.Image object>"
      ]
     },
     "metadata": {},
     "output_type": "display_data"
    }
   ],
   "source": [
    "%%cpp\n",
    "\n",
    "TH1F *h=new TH1F(\"h\",\"h\", 100, 0,10); //creo un istrogramma con dati da 0 a 10 e 100 bin\n",
    "//faccio un ciclo con cui creare un po di dati da inserire nell istrogramma\n",
    "for (int i=0; i<1000; i++){\n",
    "    double t=sqrt(i);\n",
    "    h->Fill(t);\n",
    "}\n",
    "TCanvas *c3=new TCanvas(\"c3\", \"c3\", 600, 600);\n",
    "c3->cd();\n",
    "h->Draw(); //disegno la funzione che prima ho salvato\n",
    "c3->Draw();\n"
   ]
  },
  {
   "cell_type": "markdown",
   "metadata": {},
   "source": [
    "Questo istogramma è particolarmente brutto (i dati sono generati un po' a caso) quindi proviamo a fare qualcosa di più interessante: nel file LD30kAngle.txt ci sono tre colonne che rappresentano massa ricostruita (con valore tra 5 e 6), distanza e suo errore nel decadimento del $B^0_S$, proviamo a creare l'istogramma della massa ricostruita:"
   ]
  },
  {
   "cell_type": "code",
   "execution_count": 8,
   "metadata": {},
   "outputs": [
    {
     "data": {
      "image/png": "[encoded data removed]",
      "text/plain": [
       "<IPython.core.display.Image object>"
      ]
     },
     "metadata": {},
     "output_type": "display_data"
    }
   ],
   "source": [
    "%%cpp\n",
    "//creo un tfile in cui salvare i dati poi \n",
    "TFile *Bs=new TFile(\"BsMass.root\", \"RECREATE\");\n",
    "//ora devo caricare i dati per farlo uso un ifstream\n",
    "ifstream in (\"LD30kAngle.txt\");\n",
    "//creo un TH1F in cui caricare i dati\n",
    "TH1F *BsMass = new TH1F (\"BsMass\", \"Bs reconstructed mass\", 100, 5, 6); // 100 bin tra 5 e 6\n",
    "//ora faccio un ciclo con cui caricare i dati\n",
    "double m,d,e;\n",
    "while (in>>m){\n",
    "    in>>d,e; //bisogna ricevere una riga intera anche se poi d ed e non li uso\n",
    "    BsMass->Fill(m); //carico la massa nell istogramma\n",
    "}\n",
    "BsMass->Write();// salvo il Th1f nel file\n",
    "\n",
    "//ora proviamo a disegnarlo\n",
    "TCanvas *cbs= new TCanvas(\"cbs\", \"Bs Mass\", 600, 600);\n",
    "cbs->cd();\n",
    "BsMass->Draw();\n",
    "cbs->Draw();\n",
    "\n"
   ]
  },
  {
   "cell_type": "markdown",
   "metadata": {},
   "source": [
    "In questo modo avendo un qualsiasi file txt contenente dei dati su cui si vuole costruire un istrogramma possiamo caricarlo in un TH1F."
   ]
  },
  {
   "cell_type": "markdown",
   "metadata": {},
   "source": [
    "### Lavorare sui TH1\n",
    "\n",
    "La classe TH1 permette di fare moltissime cose con gli istogrammi dal semplice fit alla pulizia del fondo (se si hanno le misure del fondo ovviamente).\n",
    "\n",
    "I metodi implementati gestiscono tutte queste operazioni: nel file 100mSimK12_trigger sono presenti molti TH1F con cui possiamo provare a lavorare.\n",
    "\n",
    "**Nota**\n",
    "Nei codici qui sono non andrò a salvare gli istogrammi modificati o creati per non sovrascrivere/modificare il file, in ogni caso ricordate che qualsiasi cosa creata/modificata viene salvata con Write()\n",
    "\n",
    "**Nota 2** \n",
    "Tutti quello che c'è nel file si può già subito usare senza dover usare costruttori o fare operazioni"
   ]
  },
  {
   "cell_type": "code",
   "execution_count": 9,
   "metadata": {},
   "outputs": [
    {
     "name": "stdout",
     "output_type": "stream",
     "text": [
      "(bool) true\n"
     ]
    }
   ],
   "source": [
    "%%cpp\n",
    "//apriamo il file\n",
    "TFile *hfile = new TFile (\"100mSimK12_trigger.root\"); //creo un Tfile con cui gestire 100mSimK12_trigger\n",
    "hfile->cd()"
   ]
  },
  {
   "cell_type": "markdown",
   "metadata": {},
   "source": [
    "Proviamo per esempio a plottare l'istrogramma hAll e a fittarlo con una funzione:"
   ]
  },
  {
   "cell_type": "code",
   "execution_count": 10,
   "metadata": {},
   "outputs": [
    {
     "data": {
      "image/png": "[encoded data removed]",
      "text/plain": [
       "<IPython.core.display.Image object>"
      ]
     },
     "metadata": {},
     "output_type": "display_data"
    }
   ],
   "source": [
    "%%cpp\n",
    "//creo un canvas in cui plottare\n",
    "TCanvas *call= new TCanvas(\"call\", \"call\", 600, 600);\n",
    "call->cd();\n",
    "hAll->Draw(); //disegno l'istogramma\n",
    "call->Draw();"
   ]
  },
  {
   "cell_type": "code",
   "execution_count": 11,
   "metadata": {},
   "outputs": [
    {
     "name": "stdout",
     "output_type": "stream",
     "text": [
      " FCN=7795.02 FROM MIGRAD    STATUS=CONVERGED      49 CALLS          50 TOTAL\n",
      "                     EDM=8.38171e-10    STRATEGY= 1      ERROR MATRIX ACCURATE \n",
      "  EXT PARAMETER                                   STEP         FIRST   \n",
      "  NO.   NAME      VALUE            ERROR          SIZE      DERIVATIVE \n",
      "   1  Constant     1.38627e+01   2.19426e-04   6.61024e-06   2.75144e-01\n",
      "   2  Slope       -2.45760e+01   4.11317e-03   1.20256e-04   1.08292e-02\n",
      "chi2 :7795.02\n",
      "NDF  :211\n"
     ]
    },
    {
     "data": {
      "image/png": "[encoded data removed]",
      "text/plain": [
       "<IPython.core.display.Image object>"
      ]
     },
     "metadata": {},
     "output_type": "display_data"
    }
   ],
   "source": [
    "%%cpp\n",
    "//proviamo a fittarlo con un esponenziale\n",
    "//creo la funzione esponenziale\n",
    "TF1 *fexp= new TF1(\"fexp\", \"expo\", 0, 0.2);\n",
    "//fitto la funzione al Th1 \n",
    "hAll->Fit(\"fexp\", \"R\");\n",
    "call->Draw(); //riplotto il canvas\n",
    "\n",
    "//e ora facciamoci dire chi quadro e NDF\n",
    "cout<<\"chi2 :\"<<fexp->GetChisquare()<<endl;\n",
    "cout<<\"NDF  :\"<<fexp->GetNDF()<<endl;"
   ]
  },
  {
   "cell_type": "markdown",
   "metadata": {},
   "source": [
    "Supponiamo ora per esempio di avere un istogramma (ad esempio quello del Bs) dove è presente un fondo e di averne poi uno rappresentante il suo fondo.\n",
    "\n",
    "E' possibile ottenere quindi l'istogramma \"ripulito\" sottraendo (o meglio sommando negativamente) i due istogrammi.\n",
    "Per fare questo esiste il metodo **Add(TH1, double)** (in tre implementazioni ma a noi interessa una solo) che richiede in input un secondo istogramma e il peso con cui eseguire la somma.\n",
    "\n",
    "Altri metodi utili per l'analisi (o per estrarre dati)  sono i metodi \n",
    "    - SetBinContent(int)\n",
    "    - GetBinContent(int, double)\n",
    "    - GetNbinsX()\n",
    "\n",
    "Che rispettivamente settano e restituiscono il valore dell'i-esimo bin dell'istrogramma in analisi e restituiscono il numero totale di Bins"
   ]
  },
  {
   "cell_type": "markdown",
   "metadata": {},
   "source": [
    "Proviamo a fare un esempio: nel grafico di prima (il Bs) è chiaramente visibile che il fondo è sempre inferiore a 200 (intendendo il valore dei bin di fondo), proviamo allora a fare questa cosa, in un canvas diviso in tre plotteremo l'istogramma, una sua copia in cui i bin con contenuto maggiore di 200 vengono azzerati (con i metodi di prima) e la differenza dei due.\n",
    "\n",
    "Per copiare un istogramma, in particolare se non si conosce bene il binning o i dati da cui si è partiti è possibile usare i metodi sopra ma risulta molto più semplice usare il metodo **Clone** il quale appunto clona un TH1."
   ]
  },
  {
   "cell_type": "code",
   "execution_count": 12,
   "metadata": {},
   "outputs": [],
   "source": [
    "%%cpp\n",
    "TCanvas *can5= new TCanvas(\"can5\", \"can5\", 1200, 400); //creo il canvas e lo divido\n",
    "can5->Divide(3,1); //divido il canvas\n",
    "\n",
    "//facciamo le copie degli istogrammi, bisogna essere un po accorti mentre si chiama clone\n",
    "//chiamare clone non basta, serve anche eseguire un cast durant l assegnazione\n",
    "TH1F *BsMassBkg= (TH1F*)BsMass->Clone();\n",
    "TH1F *BsMassSub= (TH1F*)BsMass->Clone();\n",
    "\n",
    "int n; //la dichiaro qua ma mi serve dopo"
   ]
  },
  {
   "cell_type": "code",
   "execution_count": 13,
   "metadata": {},
   "outputs": [
    {
     "data": {
      "image/png": "[encoded data removed]",
      "text/plain": [
       "<IPython.core.display.Image object>"
      ]
     },
     "metadata": {},
     "output_type": "display_data"
    }
   ],
   "source": [
    "%%cpp\n",
    "can5->cd(1);\n",
    "//plottiamo l originale\n",
    "BsMass->Draw();\n",
    "\n",
    "can5->cd(2);\n",
    "//ora modifichiamo la copia, possiamo \n",
    "//ininnanzitutto mi serve sapere quanti bin ci sono\n",
    "n=BsMass->GetNbinsX();\n",
    "//eseguo un ciclo su tutti i bin\n",
    "for (int i =0; i<n; i++){\n",
    "    //faccio un if ricevendo il numero di dati in ogni bin\n",
    "    if (BsMassBkg->GetBinContent(i)>200){\n",
    "        //se il numero e maggiore di 200 lo azzero cosi da avere solo il fondo\n",
    "        BsMassBkg->SetBinContent(i, 0);\n",
    "    }\n",
    "}\n",
    "//disegno l istogramma di fondo\n",
    "BsMassBkg->Draw();\n",
    "\n",
    "can5->cd(3);\n",
    "//ora sottraggo l istogramma di fondo a quello originale, per farlo basta sommarli am dando un peso negativo\n",
    "BsMassSub->Add(BsMassBkg, -1);\n",
    "BsMassSub->Draw();\n",
    "\n",
    "can5->Draw();"
   ]
  },
  {
   "cell_type": "markdown",
   "metadata": {},
   "source": [
    "Una richiesta molto comune nell'analisi di un istogramma è il calcolo del suo integrale in un dato range, per fare questo esiste il metodo Integral(min, max).\n",
    "\n",
    "E' necessario stare attenti poichè Integral richiede in input il min e max intesi come numero di bin non come range nelle unità del grafico.\n",
    "\n",
    "Per conoscere il particolare numero di un bin esiste il metodo FindBin() il quale riceve una coordinata in \"UserUnit\" e restituisce il bin corriscondente.\n",
    "\n",
    "Supponiamo per esempio di voler conoscere il valor dell'integrale (che corrisponde al numero di eventi) tra 5.3 e 5.4 dell'istogramma precedente, basterà allora fare:"
   ]
  },
  {
   "cell_type": "code",
   "execution_count": 16,
   "metadata": {},
   "outputs": [
    {
     "name": "stdout",
     "output_type": "stream",
     "text": [
      "30\n",
      "41\n"
     ]
    }
   ],
   "source": [
    "%%cpp\n",
    "//qui serve mettere cout nel framework non e necessario\n",
    "cout<<BsMass->FindBin(5.3)<<endl;\n",
    "cout<<BsMass->FindBin(5.4)<<endl;"
   ]
  },
  {
   "cell_type": "code",
   "execution_count": 17,
   "metadata": {},
   "outputs": [
    {
     "name": "stdout",
     "output_type": "stream",
     "text": [
      "4856"
     ]
    }
   ],
   "source": [
    "%%cpp\n",
    "//ora posso integrare o mettendo i numeri a schermo oppure chiamando di nuovo findbin\n",
    "cout<<BsMass->Integral(BsMass->FindBin(5.3),BsMass->FindBin(5.4));"
   ]
  },
  {
   "cell_type": "code",
   "execution_count": null,
   "metadata": {},
   "outputs": [],
   "source": []
  }
 ],
 "metadata": {
  "kernelspec": {
   "display_name": "Python 2",
   "language": "python",
   "name": "python2"
  },
  "language_info": {
   "codemirror_mode": {
    "name": "ipython",
    "version": 2
   },
   "file_extension": ".py",
   "mimetype": "text/x-python",
   "name": "python",
   "nbconvert_exporter": "python",
   "pygments_lexer": "ipython2",
   "version": "2.7.17"
  }
 },
 "nbformat": 4,
 "nbformat_minor": 2
}
