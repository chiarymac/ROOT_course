{
 "cells": [
  {
   "cell_type": "markdown",
   "metadata": {},
   "source": [
    "# ESERCIZI 1\n",
    "\n",
    "In ognuno dei seguenti esercizi cercate di modificare un po' le funzioni in modo che non siano la solita linea rossa, provate ad esempio a cambiare colore o farla tratteggiata.\n",
    "\n",
    "1. Dal file hAllOut.txt prendere i dati e caricarli in un TGraph, interpolare la distribuzione con una funzione e vederne la statistica.\n",
    "2. Dallo stesso file caricate i dati su un TGraph e un TGraphErrors e sullo stesso canvas plottate i due interpolati con una rispettiva funzione (hint: dividete il canvas) così da comparare la statistica.\n",
    "      - Osservazione: il $\\chi^2$ sarà altissimo ma non è un problema è normale, la distibuzione ha statistica troppo alta rispetto al numero di bin\n",
    "Anche se non abbiamo ancora visto in dettaglio i TH1F anche essi hanno il metodo Draw() quindi per disegnarli potete trattarli come dei TGraph:\n",
    "\n",
    "3. Nei file AngleDist.txt e AngleMC.txt ci sono delle distanze reali e simulate con MC, in un canvas plottate i due affiancati in scala logaritmica"
   ]
  },
  {
   "cell_type": "code",
   "execution_count": null,
   "metadata": {
    "collapsed": true
   },
   "outputs": [],
   "source": []
  }
 ],
 "metadata": {
  "kernelspec": {
   "display_name": "Python 2",
   "language": "python",
   "name": "python2"
  }
 },
 "nbformat": 4,
 "nbformat_minor": 2
}
