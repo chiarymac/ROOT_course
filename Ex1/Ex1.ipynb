{
 "cells": [
  {
   "cell_type": "markdown",
   "metadata": {},
   "source": [
    "# ESERCIZI 1\n",
    "\n",
    "In ognuno dei seguenti esercizi cercate di modificare un po' le funzioni in modo che non siano la solita linea rossa, provate ad esempio a cambiare colore o farla tratteggiata.\n",
    "\n",
    "1. Dal file hAllOut.txt prendere i dati e caricarli in un TGraph, interpolare la distribuzione con una funzione e vederne la statistica.\n",
    "2. Dallo stesso file caricate i dati su un TGraph e un TGraphErrors e sullo stesso canvas plottate i due interpolati con una rispettiva funzione (hint: dividete il canvas) così da comparare la statistica.\n",
    "      - Osservazione: il $\\chi^2$ sarà altissimo ma non è un problema è normale, la distibuzione ha statistica troppo alta rispetto al numero di bin e la vera funzione con cui fittare ha troppi parametri per fittare così\n",
    "\n",
    "3. Nei file AngleDist.txt e AngleMC.txt ci sono delle distanze reali e simulate con MC, in un canvas plottate i due grafici in scala logaritmica (in due Tpad diversi)\n",
    "\n",
    "4. Nel file MCDiff.txt ogni riga contiene 19 colonne, la prima rappresenta la x le altre a coppie di tre sono la y e gli errori in x e y di alcuni grafici, in un canvas diviso in 6 (3x2 o 2x3 a scelta) plottate i vari grafici (uno per zona), ricordate che quando il TGraph viene creato gli si può dare il file seguito da una stringa in cui si dice che colonna leggere (%lg leggi colonna %s skippa colonna)"
   ]
  },
  {
   "cell_type": "code",
   "execution_count": null,
   "metadata": {
    "collapsed": true
   },
   "outputs": [],
   "source": []
  }
 ],
 "metadata": {
  "kernelspec": {
   "display_name": "Python 2",
   "language": "python",
   "name": "python2"
  },
  "language_info": {
   "codemirror_mode": {
    "name": "ipython",
    "version": 2
   },
   "file_extension": ".py",
   "mimetype": "text/x-python",
   "name": "python",
   "nbconvert_exporter": "python",
   "pygments_lexer": "ipython2",
   "version": "2.7.17"
  }
 },
 "nbformat": 4,
 "nbformat_minor": 2
}
