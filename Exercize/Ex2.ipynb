{
 "cells": [
  {
   "cell_type": "markdown",
   "metadata": {},
   "source": [
    "# Esercizi su TH1F e macro\n",
    "\n",
    "Tutti i TH1F citati sono presenti nel file 100mSimK12_trigger.root\n",
    "\n",
    "## Facili\n",
    "\n",
    "1. Dopo aver aperto il file fate una copia degli istogrammi PvMCRCNoBs e PvMCRCOnly e salvateli in un nuovo TFile chiamato PvMCRC.root\n",
    "\n",
    "2. In un canvas diviso in tre disegnate le coppie di TH1F\n",
    "    - PvMCAllNoBs e PvMCAllTrk\n",
    "    - PvMCRCNoBs e PvMCRCOnly\n",
    "    - PvMCTrkCalc e PvMCAngCalc\n",
    "   Dove rispetticamente il primo è in blu e il secondo in rosso (ricordate che per disegnare nel medesimo luogo si usa l'opzione \"same\")\n",
    "   \n",
    "3. Riscalate gli istogrammi hSim e hSel in modo che abbiano la stessa area e poi sottraeteli\n",
    "    - E' possibile che alcuni bin diventino negativi quindi per migliorare la cosa eseguite un ciclo su tutti i bin e settate a zero quelli che risultano negativi\n",
    "    \n",
    "## Medi\n",
    "    \n",
    "4. Scrivere una macro che esegua il fit (gaussiano) del TH1F DiffMCTrack2d, la macro deve ricevere in input il nome del th1f e il range in cui fittare\n",
    "    - Nota: se plottate in logaritmico vedrete che in verità non è una gaussiana, bisognerebbe usare funzioni e metodi più raffinati ma per noi basta fittare solo il picco con una gaussiana\n",
    "\n",
    "5. Scrivete una macro che fitti PvMCAllTrk con una gaussiana in un dato range e salvi il nome del TH1F seguito dall' integrale tra -0.01 e 0.01, il chi quadro e i parametri del fit (con GetParameter(int) ) in un file .txt esterno\n",
    "\n",
    "## Difficile (richiede un po' di conoscenza C++)\n",
    "\n",
    "6. Meccanizzate la macro precendente in modo tale che fitti tutti i Th1 con nome PcMC* (solo i 6 senza il 3d finale) sempre in un dato range, salvando però tutti i risultati nello stesso file (dovete fate si che l'oftream non vada a sovrascrivere il file ma aggiunga dati in fondo).\n",
    "    - Per meccanizzare risulta utile usare un file .sh e quindi gli istogrammi andranno recuperati nel file usando i TFile, in questo modo è possibile fare si che all'inizio di ogni chiamata del file .sh venga eliminato il file precendente con i risultati così da avere sempre e solo i 6 risultati dell'ultima chiamata"
   ]
  },
  {
   "cell_type": "code",
   "execution_count": null,
   "metadata": {},
   "outputs": [],
   "source": []
  }
 ],
 "metadata": {
  "kernelspec": {
   "display_name": "Python 2",
   "language": "python",
   "name": "python2"
  },
  "language_info": {
   "codemirror_mode": {
    "name": "ipython",
    "version": 2
   },
   "file_extension": ".py",
   "mimetype": "text/x-python",
   "name": "python",
   "nbconvert_exporter": "python",
   "pygments_lexer": "ipython2",
   "version": "2.7.17"
  }
 },
 "nbformat": 4,
 "nbformat_minor": 2
}
